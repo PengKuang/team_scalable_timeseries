{
 "cells": [
  {
   "cell_type": "code",
   "execution_count": 1,
   "id": "dbaea4af-114e-4730-87c7-469d1b4f49cb",
   "metadata": {},
   "outputs": [],
   "source": [
    "import torch\n",
    "import pyspark"
   ]
  },
  {
   "cell_type": "code",
   "execution_count": 2,
   "id": "c431b736-a694-4bde-a6a6-cba2bdd31295",
   "metadata": {},
   "outputs": [
    {
     "name": "stdout",
     "output_type": "stream",
     "text": [
      "tensor([[0.0984, 0.6939, 0.2202],\n",
      "        [0.8581, 0.2848, 0.4221],\n",
      "        [0.7404, 0.2938, 0.3256],\n",
      "        [0.3511, 0.6967, 0.3347],\n",
      "        [0.2776, 0.1800, 0.3896]])\n"
     ]
    }
   ],
   "source": [
    "# Check PyTorch installation\n",
    "x = torch.rand(5, 3)\n",
    "print(x)"
   ]
  },
  {
   "cell_type": "code",
   "execution_count": 3,
   "id": "fb0f3631-1048-4285-8fc1-6a54a633a1bf",
   "metadata": {},
   "outputs": [
    {
     "name": "stdout",
     "output_type": "stream",
     "text": [
      "+---+-----+\n",
      "| id|value|\n",
      "+---+-----+\n",
      "|  1|    a|\n",
      "|  2|    b|\n",
      "+---+-----+\n",
      "\n"
     ]
    }
   ],
   "source": [
    "spark = pyspark.sql.SparkSession.builder.appName(\"example\").getOrCreate()\n",
    "df = spark.createDataFrame([(1, 'a'), (2, 'b')], [\"id\", \"value\"])\n",
    "df.show()"
   ]
  }
 ],
 "metadata": {
  "kernelspec": {
   "display_name": "Python 3 (ipykernel)",
   "language": "python",
   "name": "python3"
  },
  "language_info": {
   "codemirror_mode": {
    "name": "ipython",
    "version": 3
   },
   "file_extension": ".py",
   "mimetype": "text/x-python",
   "name": "python",
   "nbconvert_exporter": "python",
   "pygments_lexer": "ipython3",
   "version": "3.11.6"
  }
 },
 "nbformat": 4,
 "nbformat_minor": 5
}
