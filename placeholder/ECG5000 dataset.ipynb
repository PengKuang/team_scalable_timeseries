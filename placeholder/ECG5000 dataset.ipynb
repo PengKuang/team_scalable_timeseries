{
 "cells": [
  {
   "cell_type": "markdown",
   "id": "edf13c5c",
   "metadata": {},
   "source": [
    "## Overview of the ECG5000 dataset\n",
    "Electrocardiograms (ECGs) are recordings of the electrical activity of the heart, providing vital information about its rhythm and health. Specifically, they are graphs of the heart's electrical voltage over time, measured through electrodes placed on the skin. ECGs are critical tools for diagnosing a range of heart conditions, such as arrhythmias (irregular heartbeats), ischemia (restricted blood flow to the heart), and other cardiac abnormalities. These anomalies often manifest as deviations in the normal trends of the ECG signals.\n",
    "\n",
    "ECG data is routinely collected in hospitals for patient monitoring, meaning there is, in theory, an abundance of data available for developing machine learning models. Furthermore, the structured and repetitive nature of ECG signals makes them well-suited for models like autoencoders, since autoencoders excel at learning normal patterns from structured data. If trained only on healthy ECGs, the autoencoder will struggle to accurately reconstruct anomalous signals, making deviations from the normal trends identifiable as anomalies. An anomaly detection system based on this data could significantly enhance patient care by serving as an alert system, flagging potential issues to support physicians in their diagnoses.\n",
    "\n",
    "*Insert figure here of a couple of normal and anomalous data trajectories*\n",
    "\n",
    "The ECG5000 dataset is a commonly used benchmark in the field of anomaly detection, particularly for detecting irregularities in heart function. The raw data is collected in [this](https://www.physionet.org/content/chfdb/1.0.0/) repository, and was originally collected in [this work](http://www.ncbi.nlm.nih.gov/entrez/query.fcgi?cmd=Retrieve&db=PubMed&list_uids=3950244&dopt=Abstract). The raw dataset includes long-term ECG recordings from 15 subjects with severe congestive heart failure:\n",
    "- 11 men (aged 22 to 71).\n",
    "- 4 women (aged 54 to 63). \n",
    "\n",
    "The data was further analyzed and preprocessed in [this work](https://link.springer.com/article/10.1007/s10618-014-0388-4), where the preprocessing pipeline consisted of the following three steps:\n",
    "1. Individual heartbeats were extracted from the long ECG recordings.\n",
    "2. Each heartbeat was adjusted to a length of 140 timesteps using interpolation.\n",
    "3. A total of 5,000 heartbeats were randomly selected for the dataset. \n",
    "\n",
    "Note that because the raw data consists of a single, long sequence of ECG evaluations, we only have access to the 5,000 randomly sampled signals, not individual heartbeats.\n",
    "\n",
    "The final dataset contains:\n",
    "- 2079 normal heartbeats.\n",
    "- 2921 anomalous heartbeats (categorized into 4 distinct classes, each representing a specific heart condition).\n",
    "\n",
    "For our purposes, all anomalies are collected in one single class, which simplifies the task by focusing on detecting abnormal ECGs rather than diagnosing specific conditions. This also aligns with real-world applications where the goal is often to flag unusual signals for further examination by medical professionals.\n"
   ]
  }
 ],
 "metadata": {
  "kernelspec": {
   "display_name": "Python 3 (ipykernel)",
   "language": "python",
   "name": "python3"
  },
  "language_info": {
   "codemirror_mode": {
    "name": "ipython",
    "version": 3
   },
   "file_extension": ".py",
   "mimetype": "text/x-python",
   "name": "python",
   "nbconvert_exporter": "python",
   "pygments_lexer": "ipython3",
   "version": "3.9.1"
  }
 },
 "nbformat": 4,
 "nbformat_minor": 5
}
