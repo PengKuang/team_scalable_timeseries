{
 "cells": [
  {
   "cell_type": "markdown",
   "id": "edf13c5c",
   "metadata": {},
   "source": [
    "## Overview of the ECG5000 dataset\n",
    "\n",
    "Electrocardiograms (ECGs) are critical tools for diagnosing heart conditions such as arrhythmias, ischemia, and other cardiac abnormalities. ECG data is routinely collected in hospitals for patient monitoring. This makes it, in theory, suitable for developing machine learning models and deploying them in healthcare to assist physicians. Furthermore, the structured and repetitive nature of ECG signals makes them well-suited for models like autoencoders. Autoencoders excel at learning normal patterns from structured data, enabling the identification of deviations that can be flagged as anomalies for further review by physicians.\n",
    "\n",
    "*Insert figure here of a couple of normal and anomalous data trajectories*\n",
    "\n",
    "The ECG5000 dataset is a commonly used benchmark in the field of anomaly detection, particularly for detecting irregularities in heart function. The raw data is collected in [this](https://www.physionet.org/content/chfdb/1.0.0/) repository, and was originally collected in [this work](http://www.ncbi.nlm.nih.gov/entrez/query.fcgi?cmd=Retrieve&db=PubMed&list_uids=3950244&dopt=Abstract). The original dataset includes long-term ECG recordings from 15 subjects with severe congestive heart failure:\n",
    "- 11 men (aged 22 to 71).\n",
    "- 4 women (aged 54 to 63). \n",
    "\n",
    "The data was further analyzed and preprocessed in [this work](https://link.springer.com/article/10.1007/s10618-014-0388-4), where the preprocessing pipeline consisted of the following three steps:\n",
    "\n",
    "1. Heartbeat Extraction: Individual heartbeats were extracted from the long ECG recordings.\n",
    "\n",
    "2. Length Equalization: Heartbeat lengths were equalized using interpolation, ensuring uniformity across the dataset.\n",
    "\n",
    "3. Random Sampling: A total of 5,000 heartbeats were randomly selected for the dataset. \n",
    "\n",
    "Note that because the raw data consists of a single, long sequence of ECG evaluations, we only have access to the 5,000 randomly sampled signals, not individual heartbeats.\n",
    "\n",
    "The final dataset contains:\n",
    "- 2079 normal heartbeats.\n",
    "- 2921 anomalous heartbeats (categorized into 4 distinct classes, each representing a specific heart condition).\n",
    "\n",
    "For our purposes, all anomalies are collected in one single class. This decision simplifies the task by focusing on detecting abnormal ECGs rather than diagnosing specific conditions. Such an approach aligns with real-world applications where the goal is often to flag unusual signals for further examination by medical professionals.\n"
   ]
  }
 ],
 "metadata": {
  "kernelspec": {
   "display_name": "Python 3 (ipykernel)",
   "language": "python",
   "name": "python3"
  },
  "language_info": {
   "codemirror_mode": {
    "name": "ipython",
    "version": 3
   },
   "file_extension": ".py",
   "mimetype": "text/x-python",
   "name": "python",
   "nbconvert_exporter": "python",
   "pygments_lexer": "ipython3",
   "version": "3.9.1"
  }
 },
 "nbformat": 4,
 "nbformat_minor": 5
}
